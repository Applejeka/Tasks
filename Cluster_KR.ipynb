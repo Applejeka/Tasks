{
  "nbformat": 4,
  "nbformat_minor": 0,
  "metadata": {
    "colab": {
      "provenance": [],
      "authorship_tag": "ABX9TyNMPIx45ZHu4fCH2JzsfazK",
      "include_colab_link": true
    },
    "kernelspec": {
      "name": "python3",
      "display_name": "Python 3"
    },
    "language_info": {
      "name": "python"
    }
  },
  "cells": [
    {
      "cell_type": "markdown",
      "metadata": {
        "id": "view-in-github",
        "colab_type": "text"
      },
      "source": [
        "<a href=\"https://colab.research.google.com/github/Applejeka/Tasks/blob/main/Cluster_KR.ipynb\" target=\"_parent\"><img src=\"https://colab.research.google.com/assets/colab-badge.svg\" alt=\"Open In Colab\"/></a>"
      ]
    },
    {
      "cell_type": "code",
      "execution_count": null,
      "metadata": {
        "id": "nflKNMXw9iUh"
      },
      "outputs": [],
      "source": [
        "import pandas as pd\n",
        "import numpy as np\n",
        "import matplotlib as mpl\n",
        "import matplotlib.pyplot as plt\n",
        "import seaborn as sns\n",
        "from sklearn.cluster import KMeans\n",
        "from sklearn.preprocessing import StandardScaler\n",
        "from sklearn.decomposition import PCA\n",
        "from scipy.spatial.distance import cdist\n",
        "from sklearn.datasets import make_blobs\n",
        "from sklearn.metrics import precision_score\n",
        "from sklearn.cluster import KMeans, AgglomerativeClustering\n",
        "\n",
        "db = pd.read_csv('/content/Mall_Customers_Segmentation.csv')\n",
        "print(db.head())\n",
        "print(db.info())\n",
        "print(db.isnull().sum())"
      ]
    },
    {
      "cell_type": "code",
      "source": [
        "sns.pairplot(db[['Spending Score (1-100)','Annual Income (k$)','Age']])\n",
        "plt.show()\n",
        "\n",
        "corr_matrix = db[['Spending Score (1-100)','Annual Income (k$)','Age']].corr()\n",
        "sns.heatmap(corr_matrix, annot=True, cmap='YlGnBu')\n",
        "plt.show()"
      ],
      "metadata": {
        "id": "4RElVwlf-AfA"
      },
      "execution_count": null,
      "outputs": []
    },
    {
      "cell_type": "code",
      "source": [
        "db['Genre'] = db['Genre'].apply(lambda x: 1 if x == 'Male' else 0)\n",
        "\n",
        "scaler = StandardScaler()\n",
        "data_scaled = scaler.fit_transform(db[['Genre', 'Age', 'Annual Income (k$)', 'Spending Score (1-100)']])"
      ],
      "metadata": {
        "id": "31eN9y71N7cr"
      },
      "execution_count": null,
      "outputs": []
    },
    {
      "cell_type": "code",
      "source": [
        "scaler = StandardScaler()\n",
        "data_scaled = scaler.fit_transform(db)\n",
        "\n",
        "sse = []\n",
        "for k in range(1, 11):\n",
        "  kmeans = KMeans(n_clusters=k, max_iter=1000)\n",
        "  kmeans.fit(data_scaled)\n",
        "  sse.append(kmeans.inertia_)\n",
        "\n",
        "plt.plot(range(1, 11), sse)\n",
        "plt.title('Метод локтя')\n",
        "plt.xlabel('Количество кластеров')\n",
        "plt.ylabel('SSE')\n",
        "plt.show()"
      ],
      "metadata": {
        "id": "NfxyCfESDgJc"
      },
      "execution_count": null,
      "outputs": []
    },
    {
      "cell_type": "code",
      "source": [
        "db['Genre'] = db['Genre'].apply(lambda x: 1 if x == 'Male' else 0)\n",
        "\n",
        "db.describe()"
      ],
      "metadata": {
        "id": "CE77VYPe-C-I"
      },
      "execution_count": null,
      "outputs": []
    },
    {
      "cell_type": "code",
      "source": [
        "sorted_db = db.sort_values(by='Genre', ascending=False)\n",
        "\n",
        "db_fem = sorted_db.iloc[88:200, : ]\n",
        "db_COOLMANS = sorted_db.iloc[0:88, : ]\n",
        "\n",
        "print(db_fem)"
      ],
      "metadata": {
        "id": "tb8Ig7iiUYpY"
      },
      "execution_count": null,
      "outputs": []
    },
    {
      "cell_type": "code",
      "source": [
        "kmeans = KMeans(n_clusters=5, random_state=42)\n",
        "kmeans.fit(db)\n",
        "\n",
        "clusters = kmeans.labels_\n",
        "\n",
        "db['kmeans_cluster'] = kmeans.labels_\n",
        "\n",
        "print(f'Кластеры: {len(set(kmeans.labels_))}')"
      ],
      "metadata": {
        "id": "RrE-yXCbXdRp"
      },
      "execution_count": null,
      "outputs": []
    },
    {
      "cell_type": "code",
      "source": [
        "cluster1 = db[db['kmeans_cluster'] == 0]\n",
        "cluster2 = db[db['kmeans_cluster'] == 1]\n",
        "cluster3 = db[db['kmeans_cluster'] == 2]\n",
        "cluster4 = db[db['kmeans_cluster'] == 3]\n",
        "cluster5 = db[db['kmeans_cluster'] == 4]"
      ],
      "metadata": {
        "id": "DpIWQLnOX6CL"
      },
      "execution_count": null,
      "outputs": []
    },
    {
      "cell_type": "code",
      "source": [
        "clus1 = cluster1.describe()\n",
        "clus2 = cluster2.describe()\n",
        "clus3 = cluster3.describe()\n",
        "clus4 = cluster4.describe()\n",
        "clus5 = cluster5.describe()\n",
        "\n",
        "print(\"Кластер 1\")\n",
        "print(clus1)\n",
        "print(\"Кластер 2\")\n",
        "print(clus2)\n",
        "print(\"Кластер 3\")\n",
        "print(clus3)\n",
        "print(\"Кластер 4\")\n",
        "print(clus4)\n",
        "print(\"Кластер 5\")\n",
        "print(clus5)"
      ],
      "metadata": {
        "id": "gvgES9quWtvD"
      },
      "execution_count": null,
      "outputs": []
    }
  ]
}